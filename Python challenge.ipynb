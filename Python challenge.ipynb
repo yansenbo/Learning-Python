{
 "cells": [
  {
   "cell_type": "markdown",
   "metadata": {},
   "source": [
    "# Python Challenge "
   ]
  },
  {
   "cell_type": "markdown",
   "metadata": {},
   "source": [
    "## [Problem 0](http://www.pythonchallenge.com/pc/def/0.html)"
   ]
  },
  {
   "cell_type": "code",
   "execution_count": 1,
   "metadata": {},
   "outputs": [
    {
     "data": {
      "text/plain": [
       "274877906944"
      ]
     },
     "execution_count": 1,
     "metadata": {},
     "output_type": "execute_result"
    }
   ],
   "source": [
    "2 ** 38"
   ]
  },
  {
   "cell_type": "markdown",
   "metadata": {},
   "source": [
    "## [Problem 1](http://www.pythonchallenge.com/pc/def/map.html) string.maketrans()"
   ]
  },
  {
   "cell_type": "code",
   "execution_count": 2,
   "metadata": {
    "collapsed": true
   },
   "outputs": [],
   "source": [
    "s = \"g fmnc wms bgblr rpylqjyrc gr zw fylb. rfyrq ufyr amknsrcpq ypc dmp. bmgle gr gl zw fylb gq glcddgagclr ylb rfyr'q ufw rfgq rcvr gq qm jmle. sqgle qrpgle.kyicrpylq() gq pcamkkclbcb. lmu ynnjw ml rfc spj.\""
   ]
  },
  {
   "cell_type": "code",
   "execution_count": 3,
   "metadata": {},
   "outputs": [
    {
     "data": {
      "text/plain": [
       "\"i hope you didnt translate it by hand. thats what computers are for. doing it in by hand is inefficient and that's why this text is so long. using string.maketrans() is recommended. now apply on the url.\""
      ]
     },
     "execution_count": 3,
     "metadata": {},
     "output_type": "execute_result"
    }
   ],
   "source": [
    "from string import lowercase, maketrans\n",
    "intab = lowercase\n",
    "outtab = lowercase[2:] + lowercase[:2]\n",
    "trantab = maketrans(intab, outtab)\n",
    "s.translate(trantab)"
   ]
  },
  {
   "cell_type": "code",
   "execution_count": 4,
   "metadata": {},
   "outputs": [
    {
     "data": {
      "text/plain": [
       "'ocr'"
      ]
     },
     "execution_count": 4,
     "metadata": {},
     "output_type": "execute_result"
    }
   ],
   "source": [
    "url = \"map\"\n",
    "url.translate(trantab)"
   ]
  },
  {
   "cell_type": "markdown",
   "metadata": {},
   "source": [
    "str.join(iterable): connect each iterable element with str"
   ]
  },
  {
   "cell_type": "code",
   "execution_count": 5,
   "metadata": {},
   "outputs": [
    {
     "data": {
      "text/plain": [
       "'ocr'"
      ]
     },
     "execution_count": 5,
     "metadata": {},
     "output_type": "execute_result"
    }
   ],
   "source": [
    "\"\".join(chr((ord(c) - ord('a') + 2) % 26 + ord('a')) for c in 'map')"
   ]
  },
  {
   "cell_type": "code",
   "execution_count": 6,
   "metadata": {},
   "outputs": [
    {
     "data": {
      "text/plain": [
       "'o_c_r'"
      ]
     },
     "execution_count": 6,
     "metadata": {},
     "output_type": "execute_result"
    }
   ],
   "source": [
    "\"_\".join(chr((ord(c) - ord('a') + 2) % 26 + ord('a')) for c in 'map')"
   ]
  },
  {
   "cell_type": "code",
   "execution_count": 11,
   "metadata": {},
   "outputs": [
    {
     "data": {
      "text/plain": [
       "'o->c->r'"
      ]
     },
     "execution_count": 11,
     "metadata": {},
     "output_type": "execute_result"
    }
   ],
   "source": [
    "\"->\".join(map(lambda c: c.isalpha() and chr((ord(c) - ord('a') + 2) % 26 + ord('a')) or c, 'map'))"
   ]
  },
  {
   "cell_type": "code",
   "execution_count": 13,
   "metadata": {},
   "outputs": [
    {
     "data": {
      "text/plain": [
       "'kprwv'"
      ]
     },
     "execution_count": 13,
     "metadata": {},
     "output_type": "execute_result"
    }
   ],
   "source": [
    "\"\".join(map(lambda x: chr((ord(x)+2-ord(\"a\"))%26 + ord(\"a\")) if x.isalpha() else x, \"input\"))"
   ]
  },
  {
   "cell_type": "markdown",
   "metadata": {},
   "source": [
    "[Solution to Problem 1](http://www.pythonchallenge.com/pcc/def/ocr.html): Can learn a lot from this pages!"
   ]
  },
  {
   "cell_type": "markdown",
   "metadata": {},
   "source": [
    "## [Problem 2](http://www.pythonchallenge.com/pc/def/ocr.html) str.join(), str.stirp(), OrderedDict()"
   ]
  },
  {
   "cell_type": "code",
   "execution_count": 41,
   "metadata": {},
   "outputs": [
    {
     "name": "stdout",
     "output_type": "stream",
     "text": [
      "<open file '2.txt', mode 'r' at 0x10dd0ae40>\n"
     ]
    }
   ],
   "source": [
    "print open('2.txt')"
   ]
  },
  {
   "cell_type": "code",
   "execution_count": 34,
   "metadata": {},
   "outputs": [
    {
     "name": "stdout",
     "output_type": "stream",
     "text": [
      "\"%%$@_$^__\n"
     ]
    }
   ],
   "source": [
    "s = ''.join(line.strip() for line in open('2.txt'))\n",
    "print s[:10]"
   ]
  },
  {
   "cell_type": "code",
   "execution_count": 35,
   "metadata": {},
   "outputs": [
    {
     "name": "stdout",
     "output_type": "stream",
     "text": [
      "['a', 'e', 'i', 'l', 'q', 'u', 't', 'y', '\"', '^', '*', '&', '$', '{', '+', '!', '%', '}', '[', '_', '#', ']', '(', '@', ')']\n"
     ]
    }
   ],
   "source": [
    "from collections import Counter\n",
    "dic = Counter(s)\n",
    "chars = sorted(dic, key = dic.get)\n",
    "print chars"
   ]
  },
  {
   "cell_type": "code",
   "execution_count": 36,
   "metadata": {},
   "outputs": [
    {
     "name": "stdout",
     "output_type": "stream",
     "text": [
      "aeilquty\n"
     ]
    }
   ],
   "source": [
    "alphabets = \"\".join(map(lambda x:x.isalpha() and x or \"\", chars))\n",
    "print alphabets"
   ]
  },
  {
   "cell_type": "code",
   "execution_count": 37,
   "metadata": {},
   "outputs": [
    {
     "name": "stdout",
     "output_type": "stream",
     "text": [
      "{'a': 1, 'e': 1, 'i': 1, 'l': 1, 'q': 1, 'u': 1, 't': 1, 'y': 1}\n"
     ]
    }
   ],
   "source": [
    "d = {c:dic[c] for c in alphabets}\n",
    "print d"
   ]
  },
  {
   "cell_type": "code",
   "execution_count": 38,
   "metadata": {},
   "outputs": [
    {
     "data": {
      "text/plain": [
       "'equality'"
      ]
     },
     "execution_count": 38,
     "metadata": {},
     "output_type": "execute_result"
    }
   ],
   "source": [
    "\"\".join(map(lambda x:x.isalpha() and x or \"\", s))"
   ]
  },
  {
   "cell_type": "code",
   "execution_count": 43,
   "metadata": {},
   "outputs": [
    {
     "ename": "SyntaxError",
     "evalue": "invalid syntax (<ipython-input-43-6b1729f2c355>, line 4)",
     "output_type": "error",
     "traceback": [
      "\u001b[0;36m  File \u001b[0;32m\"<ipython-input-43-6b1729f2c355>\"\u001b[0;36m, line \u001b[0;32m4\u001b[0m\n\u001b[0;31m    .join( c for c in\u001b[0m\n\u001b[0m    ^\u001b[0m\n\u001b[0;31mSyntaxError\u001b[0m\u001b[0;31m:\u001b[0m invalid syntax\n"
     ]
    }
   ],
   "source": [
    "from string import ascii_letters\n",
    "import re, urllib2, webbrowser as wb\n",
    "wb.open('http://www.pythonchallenge.com/pc/def/%s.html' %\n",
    "       .join( c for c in\n",
    "        re.findall(,\n",
    "        urlibs.urlopen('http://www.pythonchallenge.com/pc/def/ocr.html').read(),\n",
    "        re.S)[1] if c in ascii_letters))"
   ]
  },
  {
   "cell_type": "markdown",
   "metadata": {},
   "source": [
    "[Solution Page for 2!!](http://www.pythonchallenge.com/pcc/def/equality.html)"
   ]
  },
  {
   "cell_type": "markdown",
   "metadata": {},
   "source": [
    "## [Problem 3](http://www.pythonchallenge.com/pc/def/equality.html)"
   ]
  },
  {
   "cell_type": "code",
   "execution_count": 39,
   "metadata": {},
   "outputs": [
    {
     "name": "stdout",
     "output_type": "stream",
     "text": [
      "kAewtloYgc\n"
     ]
    }
   ],
   "source": [
    "s = ''.join(line.strip() for line in open('3.txt'))\n",
    "print s[:10]"
   ]
  },
  {
   "cell_type": "code",
   "execution_count": 42,
   "metadata": {
    "collapsed": true
   },
   "outputs": [],
   "source": [
    "from string import ascii_letters\n",
    "import re, urllib2, webbrowser as wb\n",
    "wb.open('http://www.pythonchallenge.com/pc/def/%s.html' %\n",
    "        .join(c for c in \n",
    "        re.findall(,\n",
    "        urlib2.urlopen('http://www.pythonchallenge.com/pc/def/equality.html').read(), \n",
    "        re.S)[1] if chr in ascii_letters))"
   ]
  },
  {
   "cell_type": "code",
   "execution_count": null,
   "metadata": {
    "collapsed": true
   },
   "outputs": [],
   "source": []
  }
 ],
 "metadata": {
  "kernelspec": {
   "display_name": "Python 2",
   "language": "python",
   "name": "python2"
  },
  "language_info": {
   "codemirror_mode": {
    "name": "ipython",
    "version": 2
   },
   "file_extension": ".py",
   "mimetype": "text/x-python",
   "name": "python",
   "nbconvert_exporter": "python",
   "pygments_lexer": "ipython2",
   "version": "2.7.13"
  }
 },
 "nbformat": 4,
 "nbformat_minor": 2
}
